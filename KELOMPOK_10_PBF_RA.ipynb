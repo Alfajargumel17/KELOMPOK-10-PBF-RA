{
  "cells": [
    {
      "cell_type": "markdown",
      "metadata": {
        "id": "OWKaU86jVMI5"
      },
      "source": [
        "# Tugas Jurnal Kelompok (Tahun 2023)"
      ]
    },
    {
      "cell_type": "markdown",
      "metadata": {
        "id": "kesDDz4-VQFM"
      },
      "source": [
        "1. **Buatlah fungsi komposisi dengan nilai F(x) = 4^x, g(x)=x^x dan h(x)=3+x dengan pemrograman prosedural tiga fungsi dan pemrograman fungsional dengan lambda.**"
      ]
    },
    {
      "cell_type": "code",
      "execution_count": 15,
      "metadata": {
        "colab": {
          "base_uri": "https://localhost:8080/"
        },
        "id": "8apJK64zuIuL",
        "outputId": "72037575-f1b4-455e-91e1-62c09aaaa781"
      },
      "outputs": [
        {
          "name": "stdout",
          "output_type": "stream",
          "text": [
            "Hasil komposisi fungsi dari 3 fungsi :  32317006071311007300714876688669951960444102669715484032130345427524655138867890893197201411522913463688717960921898019494119559150490921095088152386448283120630877367300996091750197750389652106796057638384067568276792218642619756161838094338476170470581645852036305042887575891541065808607552399123930385521914333389668342420684974786564569494856176035326322058077805659331026192708460314150258592864177116725943603718461857357598351152301645904403697613233287231227125684710820209725157101726931323469678542580656697935045997268352998638215525166389437335543602135433229604645318478604952148193555853611059596230659\n"
          ]
        }
      ],
      "source": [
        "def f(x):\n",
        "    return 4**x\n",
        "def g(x):\n",
        "    return x**x\n",
        "def h(x):\n",
        "    return 3+x\n",
        "\n",
        "print(\"Hasil komposisi fungsi dari 3 fungsi : \", h(g(f(4))))"
      ]
    },
    {
      "cell_type": "code",
      "execution_count": 16,
      "metadata": {
        "colab": {
          "base_uri": "https://localhost:8080/"
        },
        "id": "tCPfJzGBSs29",
        "outputId": "2fcebbc0-b77e-4f93-b6d4-7a69299de09f"
      },
      "outputs": [
        {
          "name": "stdout",
          "output_type": "stream",
          "text": [
            "Hasil fungsi komposisi dengan lambda adalah 32317006071311007300714876688669951960444102669715484032130345427524655138867890893197201411522913463688717960921898019494119559150490921095088152386448283120630877367300996091750197750389652106796057638384067568276792218642619756161838094338476170470581645852036305042887575891541065808607552399123930385521914333389668342420684974786564569494856176035326322058077805659331026192708460314150258592864177116725943603718461857357598351152301645904403697613233287231227125684710820209725157101726931323469678542580656697935045997268352998638215525166389437335543602135433229604645318478604952148193555853611059596230659\n"
          ]
        }
      ],
      "source": [
        "fungsi_komposisi_fungsional = lambda x: h(g(f(x)))\n",
        "\n",
        "# Contoh pemanggilan fungsi komposisi (fungsional) dengan nilai x = 2\n",
        "hasil_fungsional = fungsi_komposisi_fungsional(x)\n",
        "print(\"Hasil fungsi komposisi dengan lambda\",\"adalah\", hasil_fungsional)\n"
      ]
    },
    {
      "cell_type": "markdown",
      "metadata": {},
      "source": [
        "2. Buatlah pemrograman berbasis objek pada soal no 1"
      ]
    },
    {
      "cell_type": "code",
      "execution_count": 1,
      "metadata": {},
      "outputs": [
        {
          "data": {
            "text/plain": [
              "32317006071311007300714876688669951960444102669715484032130345427524655138867890893197201411522913463688717960921898019494119559150490921095088152386448283120630877367300996091750197750389652106796057638384067568276792218642619756161838094338476170470581645852036305042887575891541065808607552399123930385521914333389668342420684974786564569494856176035326322058077805659331026192708460314150258592864177116725943603718461857357598351152301645904403697613233287231227125684710820209725157101726931323469678542580656697935045997268352998638215525166389437335543602135433229604645318478604952148193555853611059596230659"
            ]
          },
          "execution_count": 1,
          "metadata": {},
          "output_type": "execute_result"
        }
      ],
      "source": [
        "class Value:\n",
        "    def __init__(self, value):\n",
        "        self.value = value\n",
        "# `value >> func`\n",
        "    def __rshift__(self, other):\n",
        "        return other(self.value)\n",
        "def f(x):\n",
        "    return Value(4**x)\n",
        "def g(x):\n",
        "    return Value(x ** x)\n",
        "def h(x):\n",
        "    return Value(3 + x)\n",
        "result = Value(4) >> f >> g >> h\n",
        "result.value\n",
        "# result"
      ]
    }
  ],
  "metadata": {
    "colab": {
      "provenance": []
    },
    "kernelspec": {
      "display_name": "Python 3",
      "name": "python3"
    },
    "language_info": {
      "codemirror_mode": {
        "name": "ipython",
        "version": 3
      },
      "file_extension": ".py",
      "mimetype": "text/x-python",
      "name": "python",
      "nbconvert_exporter": "python",
      "pygments_lexer": "ipython3",
      "version": "3.11.4"
    }
  },
  "nbformat": 4,
  "nbformat_minor": 0
}
    {
      "cell_type": "markdown",
      "source": [
        "3. **Berikan Analisis Komparasi soal 1 dan 2**"
      ],
      "metadata": {
        "id": "vp9UbGX7WTlI"
      }
    },
    {
      "cell_type": "markdown",
      "source": [
        "**Kelebihan Pendekatan Pemrograman Prosedural (soal 1) :**\n",
        "1.   **Lebih Mudah Dipahami** : Pendekatan ini cenderung lebih mudah dipahami oleh pemrogram yang lebih terbiasa dengan gaya pemrograman imperatif atau prosedural.\n",
        "2.   **Lebih Fleksibel** : Memisahkan definisi fungsi-fungsi memungkinkan untuk penggunaan ulang yang lebih mudah dari setiap fungsi.\n",
        "\n",
        "\n",
        "**Kelebihan Pendekatan Pemrograman Fungsional dengan Lambda (soal 2) :**\n",
        "\n",
        "\n",
        "1.   **Kode Lebih Ringkas** : Menggunakan lambda memungkinkan kita untuk menulis kode yang lebih ringkas dan terkonsentrasi.\n",
        "2.   **Mendukung Paradigma Fungsional** : Cocok untuk kasus di mana paradigma fungsional lebih disukai atau ketika kita ingin menghindari pembuatan fungsi terpisah yang hanya digunakan sekali.\n",
        "\n",
        "\n",
        "**KESIMPULAN :**\n",
        "\n",
        "Pendekatan pemrograman prosedural pada soal 1 lebih sesuai untuk kasus di mana kita perlu mendefinisikan fungsi-fungsi terpisah yang mungkin akan digunakan kembali atau membutuhkan penanganan yang lebih terperinci. Sementara itu, pendekatan pemrograman fungsional dengan lambda pada soal 2 lebih sesuai untuk kasus di mana kita ingin menulis kode yang lebih ringkas atau menggunakan paradigma fungsional secara eksplisit. Pemilihan antara kedua pendekatan ini tergantung pada kebutuhan dan preferensi masing-masing.\n",
        "\n",
        "\n",
        "\n",
        "\n"
      ],
      "metadata": {
        "id": "B0SE-xBLZRnL"
      }
    },
